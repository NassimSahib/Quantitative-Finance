{
 "cells": [
  {
   "cell_type": "code",
   "execution_count": 1,
   "id": "d81376f6",
   "metadata": {},
   "outputs": [],
   "source": [
    "#Importation des librairies nécessaires \n",
    "\n",
    "import numpy as np\n",
    "import pandas as pd\n",
    "import datetime as dt \n",
    "import yfinance as yf \n",
    "import matplotlib.pyplot as plt\n",
    "from scipy.stats import norm"
   ]
  },
  {
   "cell_type": "code",
   "execution_count": 2,
   "id": "6671c5a4",
   "metadata": {},
   "outputs": [],
   "source": [
    "# Réglage d'une plage de temps pour un certain nombre d'années\n",
    "\n",
    "années = 15\n",
    "\n",
    "datefin = dt.datetime.now()\n",
    "\n",
    "datedébut = datefin - dt.timedelta(days = 365 * années)"
   ]
  },
  {
   "cell_type": "code",
   "execution_count": 3,
   "id": "26ddc65c",
   "metadata": {},
   "outputs": [],
   "source": [
    "# Création d'une liste de tickers \n",
    "\n",
    "tickers = ['SPY', 'BND', 'GLD', 'QQQ', 'VTI']"
   ]
  },
  {
   "cell_type": "code",
   "execution_count": 4,
   "id": "aaf83542",
   "metadata": {},
   "outputs": [
    {
     "name": "stdout",
     "output_type": "stream",
     "text": [
      "[*********************100%%**********************]  1 of 1 completed\n",
      "[*********************100%%**********************]  1 of 1 completed\n",
      "[*********************100%%**********************]  1 of 1 completed\n",
      "[*********************100%%**********************]  1 of 1 completed\n",
      "[*********************100%%**********************]  1 of 1 completed\n",
      "                   SPY        BND         GLD         QQQ         VTI\n",
      "Date                                                                 \n",
      "2008-10-27   62.827522  47.649967   72.180000   25.096781   31.531340\n",
      "2008-10-28   70.169258  47.281452   73.790001   27.869762   34.696529\n",
      "2008-10-29   69.660324  47.624107   74.000000   27.799776   34.349869\n",
      "2008-10-30   72.070168  47.307285   72.709999   28.727026   35.510437\n",
      "2008-10-31   72.466812  47.281452   71.339996   28.770761   36.294205\n",
      "...                ...        ...         ...         ...         ...\n",
      "2023-10-16  436.040009  69.089996  177.960007  369.410004  216.009995\n",
      "2023-10-17  436.019989  68.639999  178.289993  368.200012  216.289993\n",
      "2023-10-18  430.209991  68.339996  180.869995  363.369995  213.089996\n",
      "2023-10-19  426.429993  68.040001  183.089996  359.970001  211.080002\n",
      "2023-10-20  421.190002  68.290001  183.589996  354.600006  208.470001\n",
      "\n",
      "[3772 rows x 5 columns]\n"
     ]
    }
   ],
   "source": [
    "# Cours de clôture ajustés quotidiennement pour les tickers  ( ajustés car ils prennent en compte les dividendes et stock splits)\n",
    "\n",
    "cloture_aj_df = pd.DataFrame()\n",
    "\n",
    "for ticker in tickers:\n",
    "    data = yf.download(ticker, start = datedébut, end = datefin)\n",
    "    cloture_aj_df[ticker] = data['Adj Close']\n",
    "\n",
    "    \n",
    "print(cloture_aj_df)\n"
   ]
  },
  {
   "cell_type": "code",
   "execution_count": 6,
   "id": "27e89990",
   "metadata": {},
   "outputs": [
    {
     "name": "stdout",
     "output_type": "stream",
     "text": [
      "                 SPY       BND       GLD       QQQ       VTI\n",
      "Date                                                        \n",
      "2008-10-28  0.110517 -0.007764  0.022060  0.104803  0.095658\n",
      "2008-10-29 -0.007279  0.007221  0.002842 -0.002514 -0.010041\n",
      "2008-10-30  0.034009 -0.006675 -0.017586  0.032810  0.033228\n",
      "2008-10-31  0.005488 -0.000546 -0.019022  0.001521  0.021831\n",
      "2008-11-03  0.002887  0.007796 -0.003370 -0.002131 -0.003328\n",
      "...              ...       ...       ...       ...       ...\n",
      "2023-10-16  0.010466 -0.005197 -0.004877  0.011243  0.011547\n",
      "2023-10-17 -0.000046 -0.006535  0.001853 -0.003281  0.001295\n",
      "2023-10-18 -0.013415 -0.004380  0.014367 -0.013205 -0.014905\n",
      "2023-10-19 -0.008825 -0.004399  0.012199 -0.009401 -0.009477\n",
      "2023-10-20 -0.012364  0.003668  0.002727 -0.015030 -0.012442\n",
      "\n",
      "[3771 rows x 5 columns]\n"
     ]
    }
   ],
   "source": [
    "# calcul des rendements journaliers en log  et suppression de tous les NA.\n",
    "\n",
    "rendements_log  = np.log(cloture_aj_df/ cloture_aj_df.shift(1))\n",
    "rendements_log  = rendements_log.dropna()\n",
    "\n",
    "print(rendements_log)\n"
   ]
  },
  {
   "cell_type": "code",
   "execution_count": 15,
   "id": "b1243bee",
   "metadata": {},
   "outputs": [],
   "source": [
    "# Création d'une fonction pour éstimer le rendements du portefeuille\n",
    "# L'hypothèse que les rendements futurs dependent des rendements passés est ici impliquée\n",
    "\n",
    "def rendement_esp(poids, rendements_log):\n",
    "    return np.sum(rendements_log.mean()*poids)"
   ]
  },
  {
   "cell_type": "code",
   "execution_count": 10,
   "id": "afc596ff",
   "metadata": {},
   "outputs": [],
   "source": [
    "#création d'une fonction pour l'éstimation de l'écart-type du portefeuille\n",
    "\n",
    "def ecart_type(poids, matrice_cov):\n",
    "    variance = poids.T @ matrice_cov @ poids\n",
    "    return np.sqrt(variance)"
   ]
  },
  {
   "cell_type": "code",
   "execution_count": 12,
   "id": "321c484f",
   "metadata": {},
   "outputs": [
    {
     "data": {
      "text/html": [
       "<div>\n",
       "<style scoped>\n",
       "    .dataframe tbody tr th:only-of-type {\n",
       "        vertical-align: middle;\n",
       "    }\n",
       "\n",
       "    .dataframe tbody tr th {\n",
       "        vertical-align: top;\n",
       "    }\n",
       "\n",
       "    .dataframe thead th {\n",
       "        text-align: right;\n",
       "    }\n",
       "</style>\n",
       "<table border=\"1\" class=\"dataframe\">\n",
       "  <thead>\n",
       "    <tr style=\"text-align: right;\">\n",
       "      <th></th>\n",
       "      <th>SPY</th>\n",
       "      <th>BND</th>\n",
       "      <th>GLD</th>\n",
       "      <th>QQQ</th>\n",
       "      <th>VTI</th>\n",
       "    </tr>\n",
       "  </thead>\n",
       "  <tbody>\n",
       "    <tr>\n",
       "      <th>SPY</th>\n",
       "      <td>0.000148</td>\n",
       "      <td>-1.749047e-06</td>\n",
       "      <td>0.000010</td>\n",
       "      <td>1.555066e-04</td>\n",
       "      <td>0.000150</td>\n",
       "    </tr>\n",
       "    <tr>\n",
       "      <th>BND</th>\n",
       "      <td>-0.000002</td>\n",
       "      <td>9.375557e-06</td>\n",
       "      <td>0.000009</td>\n",
       "      <td>-9.977354e-07</td>\n",
       "      <td>-0.000002</td>\n",
       "    </tr>\n",
       "    <tr>\n",
       "      <th>GLD</th>\n",
       "      <td>0.000010</td>\n",
       "      <td>8.657989e-06</td>\n",
       "      <td>0.000107</td>\n",
       "      <td>1.040976e-05</td>\n",
       "      <td>0.000011</td>\n",
       "    </tr>\n",
       "    <tr>\n",
       "      <th>QQQ</th>\n",
       "      <td>0.000156</td>\n",
       "      <td>-9.977354e-07</td>\n",
       "      <td>0.000010</td>\n",
       "      <td>1.892957e-04</td>\n",
       "      <td>0.000158</td>\n",
       "    </tr>\n",
       "    <tr>\n",
       "      <th>VTI</th>\n",
       "      <td>0.000150</td>\n",
       "      <td>-1.592087e-06</td>\n",
       "      <td>0.000011</td>\n",
       "      <td>1.582392e-04</td>\n",
       "      <td>0.000153</td>\n",
       "    </tr>\n",
       "  </tbody>\n",
       "</table>\n",
       "</div>"
      ],
      "text/plain": [
       "          SPY           BND       GLD           QQQ       VTI\n",
       "SPY  0.000148 -1.749047e-06  0.000010  1.555066e-04  0.000150\n",
       "BND -0.000002  9.375557e-06  0.000009 -9.977354e-07 -0.000002\n",
       "GLD  0.000010  8.657989e-06  0.000107  1.040976e-05  0.000011\n",
       "QQQ  0.000156 -9.977354e-07  0.000010  1.892957e-04  0.000158\n",
       "VTI  0.000150 -1.592087e-06  0.000011  1.582392e-04  0.000153"
      ]
     },
     "execution_count": 12,
     "metadata": {},
     "output_type": "execute_result"
    }
   ],
   "source": [
    "# Création de la matrice de covariance \n",
    "\n",
    "matrice_cov = rendements_log.cov()\n",
    "matrice_cov"
   ]
  },
  {
   "cell_type": "code",
   "execution_count": 16,
   "id": "e7c7794f",
   "metadata": {},
   "outputs": [],
   "source": [
    "# Création d'un portefeuille équipondéré et l'ésperance de rendement ainsi que l'écart-tpe du portefeuille\n",
    "\n",
    "valeur_portefeuille = 1000000\n",
    "poids = np.array([1/len(tickers)]*len(tickers))\n",
    "esp_rend_port = rendement_esp(poids, rendements_log)\n",
    "ecart_type_port = ecart_type(poids, matrice_cov)"
   ]
  },
  {
   "cell_type": "code",
   "execution_count": 17,
   "id": "5aa45ef3",
   "metadata": {},
   "outputs": [],
   "source": [
    "# Création d'une fonction qui donne un Z-Score aléatoire basé sur la loi normale\n",
    "\n",
    "def z_score_aleatoire():\n",
    "    return np.random.normal(0,1)\n",
    "\n"
   ]
  },
  {
   "cell_type": "code",
   "execution_count": 39,
   "id": "afe69f9c",
   "metadata": {},
   "outputs": [],
   "source": [
    "# Création d'une fonction de scenario Gain Perte\n",
    "\n",
    "jours = 20\n",
    "\n",
    "def scenario_gain_perte(valeur_portefeuille, ecart_type_port, z_score, jours):\n",
    "    return valeur_portefeuille * esp_rend_port * jours + valeur_portefeuille * ecart_type_port *z_score *np.sqrt(jours)"
   ]
  },
  {
   "cell_type": "code",
   "execution_count": 40,
   "id": "7defa98d",
   "metadata": {},
   "outputs": [],
   "source": [
    "# 10000 Scénarios\n",
    "\n",
    "simulations = 10000\n",
    "rendement_scenario = []\n",
    "\n",
    "for i in range(simulations): \n",
    "    z_score = z_score_aleatoire()\n",
    "    rendement_scenario.append(scenario_gain_perte(valeur_portefeuille, ecart_type_port, z_score, jours))\n"
   ]
  },
  {
   "cell_type": "code",
   "execution_count": 41,
   "id": "b6df6471",
   "metadata": {},
   "outputs": [],
   "source": [
    "# Spécification d'un intervalle de confiance et calcul de la VaR\n",
    "\n",
    "intervalle_conf = 0.99\n",
    "\n",
    "VaR = -np.percentile(rendement_scenario, 100*(1 - intervalle_conf))"
   ]
  },
  {
   "cell_type": "code",
   "execution_count": 42,
   "id": "327670c1",
   "metadata": {},
   "outputs": [
    {
     "data": {
      "text/plain": [
       "74456.806635487"
      ]
     },
     "execution_count": 42,
     "metadata": {},
     "output_type": "execute_result"
    }
   ],
   "source": [
    "VaR"
   ]
  },
  {
   "cell_type": "code",
   "execution_count": 55,
   "id": "a2cc6892",
   "metadata": {},
   "outputs": [
    {
     "data": {
      "image/png": "[encoded data removed]",
      "text/plain": [
       "<Figure size 640x480 with 1 Axes>"
      ]
     },
     "metadata": {},
     "output_type": "display_data"
    }
   ],
   "source": [
    "# Illustation des 10 000 scénarios \n",
    "\n",
    "plt.hist(rendement_scenario, bins = 50, density=True)\n",
    "plt.xlabel('Scenario Gain/Perte ($)')\n",
    "plt.ylabel('Fréquence')\n",
    "plt.title(f\"Distribution Gain_Perte du Portefeuille sur une période de {jours} jours \")\n",
    "plt.axvline(-VaR, color='r', linestyle='dashed', linewidth=2, label=f\"VaR à un niveau de confiance {intervalle_conf:.0%}\")\n",
    "plt.legend()\n",
    "plt.show()"
   ]
  }
 ],
 "metadata": {
  "kernelspec": {
   "display_name": "Python 3 (ipykernel)",
   "language": "python",
   "name": "python3"
  },
  "language_info": {
   "codemirror_mode": {
    "name": "ipython",
    "version": 3
   },
   "file_extension": ".py",
   "mimetype": "text/x-python",
   "name": "python",
   "nbconvert_exporter": "python",
   "pygments_lexer": "ipython3",
   "version": "3.11.5"
  }
 },
 "nbformat": 4,
 "nbformat_minor": 5
}
