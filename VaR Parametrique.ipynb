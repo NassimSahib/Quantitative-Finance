{
 "cells": [
  {
   "cell_type": "markdown",
   "id": "f7adb6df",
   "metadata": {},
   "source": [
    "## VaR  Méthode Paramétrique"
   ]
  },
  {
   "cell_type": "code",
   "execution_count": 1,
   "id": "6fd1c13f",
   "metadata": {},
   "outputs": [],
   "source": [
    "#Importation des librairies nécessaires \n",
    "\n",
    "import numpy as np\n",
    "import pandas as pd\n",
    "import datetime as dt \n",
    "import yfinance as yf \n",
    "import matplotlib.pyplot as plt\n",
    "from scipy.stats import norm"
   ]
  },
  {
   "cell_type": "code",
   "execution_count": 2,
   "id": "4b6314ff",
   "metadata": {},
   "outputs": [],
   "source": [
    "# Fixation une plage de temps pour un certain nombre d'années\n",
    "\n",
    "années = 15\n",
    "\n",
    "datefin = dt.datetime.now()\n",
    "\n",
    "datedébut = datefin - dt.timedelta(days = 365 * années)"
   ]
  },
  {
   "cell_type": "code",
   "execution_count": 3,
   "id": "4ec44278",
   "metadata": {},
   "outputs": [],
   "source": [
    "# Création d'une liste de tickers \n",
    "\n",
    "tickers = ['SPY', 'BND', 'GLD', 'QQQ', 'VTI']"
   ]
  },
  {
   "cell_type": "code",
   "execution_count": 4,
   "id": "c8986e13",
   "metadata": {},
   "outputs": [
    {
     "name": "stdout",
     "output_type": "stream",
     "text": [
      "[*********************100%%**********************]  1 of 1 completed\n",
      "[*********************100%%**********************]  1 of 1 completed\n",
      "[*********************100%%**********************]  1 of 1 completed\n",
      "[*********************100%%**********************]  1 of 1 completed\n",
      "[*********************100%%**********************]  1 of 1 completed\n",
      "                   SPY        BND         GLD         QQQ         VTI\n",
      "Date                                                                 \n",
      "2008-10-27   62.827511  47.649933   72.180000   25.096775   31.531334\n",
      "2008-10-28   70.169250  47.281429   73.790001   27.869764   34.696533\n",
      "2008-10-29   69.660339  47.624111   74.000000   27.799780   34.349876\n",
      "2008-10-30   72.070137  47.307316   72.709999   28.727020   35.510445\n",
      "2008-10-31   72.466797  47.281429   71.339996   28.770763   36.294205\n",
      "...                ...        ...         ...         ...         ...\n",
      "2023-10-16  436.040009  69.089996  177.960007  369.410004  216.009995\n",
      "2023-10-17  436.019989  68.639999  178.289993  368.200012  216.289993\n",
      "2023-10-18  430.209991  68.339996  180.869995  363.369995  213.089996\n",
      "2023-10-19  426.429993  68.040001  183.089996  359.970001  211.080002\n",
      "2023-10-20  421.190002  68.290001  183.589996  354.600006  208.470001\n",
      "\n",
      "[3772 rows x 5 columns]\n"
     ]
    }
   ],
   "source": [
    "# Cours de clôture ajustés quotidiennement pour les tickers  ( ajustés car ils prennent en compte les dividendes et stock splits)\n",
    "\n",
    "cloture_aj_df = pd.DataFrame()\n",
    "\n",
    "for ticker in tickers:\n",
    "    data = yf.download(ticker, start = datedébut, end = datefin)\n",
    "    cloture_aj_df[ticker] = data['Adj Close']\n",
    "\n",
    "    \n",
    "print(cloture_aj_df)"
   ]
  },
  {
   "cell_type": "code",
   "execution_count": 5,
   "id": "297bdf51",
   "metadata": {},
   "outputs": [
    {
     "name": "stdout",
     "output_type": "stream",
     "text": [
      "                 SPY       BND       GLD       QQQ       VTI\n",
      "Date                                                        \n",
      "2008-10-28  0.110517 -0.007764  0.022060  0.104803  0.095658\n",
      "2008-10-29 -0.007279  0.007222  0.002842 -0.002514 -0.010041\n",
      "2008-10-30  0.034009 -0.006674 -0.017586  0.032810  0.033228\n",
      "2008-10-31  0.005489 -0.000547 -0.019022  0.001522  0.021831\n",
      "2008-11-03  0.002888  0.007796 -0.003370 -0.002131 -0.003328\n",
      "...              ...       ...       ...       ...       ...\n",
      "2023-10-16  0.010466 -0.005197 -0.004877  0.011243  0.011547\n",
      "2023-10-17 -0.000046 -0.006535  0.001853 -0.003281  0.001295\n",
      "2023-10-18 -0.013415 -0.004380  0.014367 -0.013205 -0.014905\n",
      "2023-10-19 -0.008825 -0.004399  0.012199 -0.009401 -0.009477\n",
      "2023-10-20 -0.012364  0.003668  0.002727 -0.015030 -0.012442\n",
      "\n",
      "[3771 rows x 5 columns]\n"
     ]
    }
   ],
   "source": [
    "# calcul des rendements journaliers en log  et suppression de tous les NA\n",
    "\n",
    "rendements_log  = np.log(cloture_aj_df/ cloture_aj_df.shift(1))\n",
    "rendements_log  = rendements_log.dropna()\n",
    "\n",
    "print(rendements_log)"
   ]
  },
  {
   "cell_type": "code",
   "execution_count": 6,
   "id": "db80d151",
   "metadata": {},
   "outputs": [
    {
     "name": "stdout",
     "output_type": "stream",
     "text": [
      "[0.2 0.2 0.2 0.2 0.2]\n"
     ]
    }
   ],
   "source": [
    "# Création d'un portefeuille équipondéré\n",
    "\n",
    "valeur_portefeuille = 1000000\n",
    "poids = np.array([1/len(tickers)] * len(tickers))\n",
    "print(poids)"
   ]
  },
  {
   "cell_type": "code",
   "execution_count": 7,
   "id": "6e4e2027",
   "metadata": {},
   "outputs": [
    {
     "name": "stdout",
     "output_type": "stream",
     "text": [
      "Date\n",
      "2008-10-28    0.065055\n",
      "2008-10-29   -0.001954\n",
      "2008-10-30    0.015157\n",
      "2008-10-31    0.001854\n",
      "2008-11-03    0.000371\n",
      "                ...   \n",
      "2023-10-16    0.004637\n",
      "2023-10-17   -0.001343\n",
      "2023-10-18   -0.006308\n",
      "2023-10-19   -0.003981\n",
      "2023-10-20   -0.006688\n",
      "Length: 3771, dtype: float64\n"
     ]
    }
   ],
   "source": [
    "# Calcul des rendements historiques du portefeuille\n",
    "\n",
    "rendements_historiques = (rendements_log * poids).sum(axis = 1)\n",
    "print(rendements_historiques)"
   ]
  },
  {
   "cell_type": "code",
   "execution_count": 8,
   "id": "b0b5726e",
   "metadata": {},
   "outputs": [],
   "source": [
    "#On retrouve les rendements historiques du jour X\n",
    "\n",
    "jours = 5\n",
    "\n",
    "range_rendements = rendements_historiques.rolling(window = jours).sum()\n"
   ]
  },
  {
   "cell_type": "code",
   "execution_count": 9,
   "id": "902b04d6",
   "metadata": {},
   "outputs": [],
   "source": [
    "# Création d'une matrice de covariance pour tous les titres\n",
    "\n",
    "matrice_cov = rendements_log.cov() * 252"
   ]
  },
  {
   "cell_type": "code",
   "execution_count": 10,
   "id": "4c330bc8",
   "metadata": {},
   "outputs": [],
   "source": [
    "# Calcul de l'écart type du portefeuille\n",
    "\n",
    "ecart_type_port = np.sqrt(poids.T @ matrice_cov @ poids)"
   ]
  },
  {
   "cell_type": "code",
   "execution_count": 11,
   "id": "c3089697",
   "metadata": {},
   "outputs": [],
   "source": [
    "# Définition de différents niveaux de confiance pour visualiser\n",
    "\n",
    "niveaux_conf = [0.9, 0.95, 0.99]"
   ]
  },
  {
   "cell_type": "code",
   "execution_count": 17,
   "id": "c37b4e27",
   "metadata": {},
   "outputs": [],
   "source": [
    "# Calcul de la vaR à différents niveaux de confiance\n",
    "\n",
    "from scipy.stats import norm\n",
    "\n",
    "VaRs = []\n",
    " \n",
    "for nc in niveaux_conf:\n",
    "    VaR = valeur_portefeuille * ecart_type_port * norm.ppf(nc) * np.sqrt(jours/252)\n",
    "    VaRs.append(VaR)"
   ]
  },
  {
   "cell_type": "code",
   "execution_count": 32,
   "id": "c5018b12",
   "metadata": {},
   "outputs": [
    {
     "name": "stdout",
     "output_type": "stream",
     "text": [
      "Les diffèrentes VaRs à 90%, 95% et 99% sont  [22975.510470493497, 29488.748439391253, 41706.499664195915] $\n"
     ]
    }
   ],
   "source": [
    "# Affichage des résultats \n",
    "\n",
    "print(\"Les diffèrentes VaRs à 90%, 95% et 99% sont \", VaRs, \"$\")"
   ]
  }
 ],
 "metadata": {
  "kernelspec": {
   "display_name": "Python 3 (ipykernel)",
   "language": "python",
   "name": "python3"
  },
  "language_info": {
   "codemirror_mode": {
    "name": "ipython",
    "version": 3
   },
   "file_extension": ".py",
   "mimetype": "text/x-python",
   "name": "python",
   "nbconvert_exporter": "python",
   "pygments_lexer": "ipython3",
   "version": "3.11.5"
  }
 },
 "nbformat": 4,
 "nbformat_minor": 5
}
