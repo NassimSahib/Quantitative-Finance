{
 "cells": [
  {
   "cell_type": "code",
   "execution_count": 2,
   "id": "d8a7a6d7",
   "metadata": {},
   "outputs": [],
   "source": [
    "#Importation des librairies nécessaires \n",
    "\n",
    "import numpy as np\n",
    "import pandas as pd\n",
    "import datetime as dt \n",
    "import yfinance as yf \n",
    "import matplotlib.pyplot as plt\n",
    "from scipy.stats import norm"
   ]
  },
  {
   "cell_type": "code",
   "execution_count": 6,
   "id": "3dfe95e9",
   "metadata": {},
   "outputs": [],
   "source": [
    "# Réglage d'une plage de temps pour un certain nombre d'années\n",
    "\n",
    "années = 15\n",
    "\n",
    "datefin = dt.datetime.now()\n",
    "\n",
    "datedébut = datefin - dt.timedelta(days = 365 * années)"
   ]
  },
  {
   "cell_type": "code",
   "execution_count": 5,
   "id": "9c8e814a",
   "metadata": {},
   "outputs": [],
   "source": [
    "# Création d'une liste de tickers \n",
    "\n",
    "tickers = ['SPY', 'BND', 'GLD', 'QQQ', 'VTI']"
   ]
  },
  {
   "cell_type": "code",
   "execution_count": 12,
   "id": "e50bacbd",
   "metadata": {},
   "outputs": [
    {
     "name": "stdout",
     "output_type": "stream",
     "text": [
      "[*********************100%%**********************]  1 of 1 completed\n",
      "[*********************100%%**********************]  1 of 1 completed\n",
      "[*********************100%%**********************]  1 of 1 completed\n",
      "[*********************100%%**********************]  1 of 1 completed\n",
      "[*********************100%%**********************]  1 of 1 completed\n",
      "                   SPY        BND         GLD         QQQ         VTI\n",
      "Date                                                                 \n",
      "2008-10-20   73.948654  47.656452   78.500000   29.041935   36.919704\n",
      "2008-10-21   71.740860  48.471031   76.029999   27.537357   35.804356\n",
      "2008-10-22   67.834267  48.690895   71.709999   26.776316   33.807281\n",
      "2008-10-23   68.620102  48.464626   70.650002   26.671347   34.229290\n",
      "2008-10-24   65.140083  47.908562   72.209999   25.814081   32.586407\n",
      "...                ...        ...         ...         ...         ...\n",
      "2023-10-09  432.290009  69.480003  172.820007  366.559998  214.300003\n",
      "2023-10-10  434.540009  69.410004  172.529999  368.589996  215.630005\n",
      "2023-10-11  436.320007  69.730003  173.789993  371.220001  216.479996\n",
      "2023-10-12  433.660004  69.129997  173.259995  369.929993  214.740005\n",
      "2023-10-13  431.500000  69.449997  178.830002  365.279999  213.529999\n",
      "\n",
      "[3772 rows x 5 columns]\n"
     ]
    }
   ],
   "source": [
    "# Cours de clôture ajustés quotidiennement pour les tickers  ( ajustés car ils prennent en compte les dividendes et stock splits)\n",
    "\n",
    "cloture_aj_df = pd.DataFrame()\n",
    "\n",
    "for ticker in tickers:\n",
    "    data = yf.download(ticker, start = datedébut, end = datefin)\n",
    "    cloture_aj_df[ticker] = data['Adj Close']\n",
    "\n",
    "    \n",
    "print(cloture_aj_df)\n",
    "\n"
   ]
  },
  {
   "cell_type": "code",
   "execution_count": 13,
   "id": "a97f41be",
   "metadata": {},
   "outputs": [
    {
     "name": "stdout",
     "output_type": "stream",
     "text": [
      "                 SPY       BND       GLD       QQQ       VTI\n",
      "Date                                                        \n",
      "2008-10-21 -0.030311  0.016948 -0.031971 -0.053197 -0.030676\n",
      "2008-10-22 -0.055993  0.004526 -0.058498 -0.028026 -0.057393\n",
      "2008-10-23  0.011518 -0.004658 -0.014892 -0.003928  0.012406\n",
      "2008-10-24 -0.052045 -0.011540  0.021840 -0.032670 -0.049186\n",
      "2008-10-27 -0.036147 -0.005412 -0.000416 -0.028180 -0.032913\n",
      "...              ...       ...       ...       ...       ...\n",
      "2023-10-09  0.006382  0.010126  0.018218  0.005087  0.006273\n",
      "2023-10-10  0.005191 -0.001008 -0.001680  0.005523  0.006187\n",
      "2023-10-11  0.004088  0.004600  0.007277  0.007110  0.003934\n",
      "2023-10-12 -0.006115 -0.008642 -0.003054 -0.003481 -0.008070\n",
      "2023-10-13 -0.004993  0.004618  0.031642 -0.012650 -0.005651\n",
      "\n",
      "[3771 rows x 5 columns]\n"
     ]
    }
   ],
   "source": [
    "# calcul des rendements journaliers en log  et suppression de tous les NA\n",
    "\n",
    "rendements_log  = np.log(cloture_aj_df/ cloture_aj_df.shift(1))\n",
    "rendements_log  = rendements_log.dropna()\n",
    "\n",
    "print(rendements_log)\n"
   ]
  },
  {
   "cell_type": "code",
   "execution_count": 14,
   "id": "b65e53ed",
   "metadata": {},
   "outputs": [
    {
     "name": "stdout",
     "output_type": "stream",
     "text": [
      "[0.2 0.2 0.2 0.2 0.2]\n"
     ]
    }
   ],
   "source": [
    "# Création d'un portefeuille équipondéré\n",
    "\n",
    "valeur_portefeuille = 1000000\n",
    "poids = np.array([1/len(tickers)] * len(tickers))\n",
    "print(poids)"
   ]
  },
  {
   "cell_type": "code",
   "execution_count": 15,
   "id": "0dfb5e1c",
   "metadata": {},
   "outputs": [
    {
     "name": "stdout",
     "output_type": "stream",
     "text": [
      "Date\n",
      "2008-10-21   -0.025841\n",
      "2008-10-22   -0.039077\n",
      "2008-10-23    0.000089\n",
      "2008-10-24   -0.024720\n",
      "2008-10-27   -0.020614\n",
      "                ...   \n",
      "2023-10-09    0.009217\n",
      "2023-10-10    0.002843\n",
      "2023-10-11    0.005402\n",
      "2023-10-12   -0.005873\n",
      "2023-10-13    0.002593\n",
      "Length: 3771, dtype: float64\n"
     ]
    }
   ],
   "source": [
    "# Calcul des rendements historiques du portefeuille\n",
    "\n",
    "rendements_historiques = (rendements_log * poids).sum(axis = 1)\n",
    "print(rendements_historiques)"
   ]
  },
  {
   "cell_type": "code",
   "execution_count": 17,
   "id": "761bdd4f",
   "metadata": {},
   "outputs": [
    {
     "name": "stdout",
     "output_type": "stream",
     "text": [
      "Date\n",
      "2008-10-27   -0.110163\n",
      "2008-10-28   -0.019267\n",
      "2008-10-29    0.017856\n",
      "2008-10-30    0.032924\n",
      "2008-10-31    0.059499\n",
      "                ...   \n",
      "2023-10-09    0.012036\n",
      "2023-10-10    0.026246\n",
      "2023-10-11    0.024769\n",
      "2023-10-12    0.019889\n",
      "2023-10-13    0.014182\n",
      "Length: 3767, dtype: float64\n"
     ]
    }
   ],
   "source": [
    "# On retrouve les rendements historiques du jour X\n",
    "\n",
    "jours = 5\n",
    "\n",
    "range_rendements = rendements_historiques.rolling(window = jours).sum()\n",
    "range_rendements = range_rendements.dropna()\n",
    "print(range_rendements)\n",
    "\n"
   ]
  },
  {
   "cell_type": "code",
   "execution_count": 19,
   "id": "d1b1a205",
   "metadata": {},
   "outputs": [
    {
     "name": "stdout",
     "output_type": "stream",
     "text": [
      "25727.143257926957\n"
     ]
    }
   ],
   "source": [
    "# Spécifiction d'un intervalle de confiance et calcul la VaR par méthode historique\n",
    "\n",
    "intervalle_confiance = 0.95\n",
    "\n",
    "VaR_hist = -np.percentile(range_rendements, 100 - (intervalle_confiance * 100)) * valeur_portefeuille\n",
    "\n",
    "print(VaR_hist)\n",
    "\n"
   ]
  },
  {
   "cell_type": "markdown",
   "id": "06a69310",
   "metadata": {},
   "source": [
    "## Sur une période de cinq jours, avec un niveau de confiance de 95%, la perte maximale potentielle est d'environ 25 728 dollars sur notre portefeuillle."
   ]
  },
  {
   "cell_type": "code",
   "execution_count": 36,
   "id": "da399e0a",
   "metadata": {},
   "outputs": [
    {
     "data": {
      "image/png": "[encoded data removed]",
      "text/plain": [
       "<Figure size 640x480 with 1 Axes>"
      ]
     },
     "metadata": {},
     "output_type": "display_data"
    }
   ],
   "source": [
    "#Plot des résultats des rendements historiques et de la VaR estimée\n",
    "\n",
    "fenetre_rendements = jours\n",
    "range_rendements = rendements_historiques.rolling(window = fenetre_rendements).sum()\n",
    "range_rendements = range_rendements.dropna()\n",
    "\n",
    "range_rendements_dollar = range_rendements * valeur_portefeuille\n",
    "\n",
    "plt.hist(range_rendements_dollar.dropna(), bins = 50, density = True)\n",
    "plt.xlabel(f'{fenetre_rendements} Jours   Rendement du portefeuille journalier (valeur en dollars)')\n",
    "plt.ylabel('Frequence')\n",
    "plt.title(f'Distribution du Portefeuille sur {fenetre_rendements} Jours (Valeur en Dollar)')\n",
    "plt.axvline(-VaR_hist, color='r',linestyle='dashed', linewidth=2, label=f'VaR a {intervalle_confiance:.0%} niveau de confiance')\n",
    "plt.legend()\n",
    "plt.show()\n",
    "\n"
   ]
  }
 ],
 "metadata": {
  "kernelspec": {
   "display_name": "Python 3 (ipykernel)",
   "language": "python",
   "name": "python3"
  },
  "language_info": {
   "codemirror_mode": {
    "name": "ipython",
    "version": 3
   },
   "file_extension": ".py",
   "mimetype": "text/x-python",
   "name": "python",
   "nbconvert_exporter": "python",
   "pygments_lexer": "ipython3",
   "version": "3.11.5"
  }
 },
 "nbformat": 4,
 "nbformat_minor": 5
}
